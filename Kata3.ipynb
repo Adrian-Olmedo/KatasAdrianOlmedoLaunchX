{
 "cells": [
  {
   "cell_type": "markdown",
   "metadata": {},
   "source": [
    "# Ejercicio - Escribir declaraciones `if`, `else`, y `elif`"
   ]
  },
  {
   "cell_type": "code",
   "execution_count": 48,
   "metadata": {},
   "outputs": [
    {
     "name": "stdout",
     "output_type": "stream",
     "text": [
      "!peiligro! asteroide acercandose\n"
     ]
    }
   ],
   "source": [
    "asteroide = 49\n",
    "if asteroide > 25:\n",
    "    print(\"!peiligro! asteroide acercandose\")\n",
    "else:\n",
    "    print(\"no hay peligro\")\n",
    "\n"
   ]
  },
  {
   "cell_type": "code",
   "execution_count": 85,
   "metadata": {},
   "outputs": [
    {
     "name": "stdout",
     "output_type": "stream",
     "text": [
      "podria pasar de largo\n"
     ]
    }
   ],
   "source": [
    "asteroide =19\n",
    "\n",
    "if asteroide > 25:\n",
    "     print(\"!peiligro! asteroide acercandose\")\n",
    "elif  asteroide >= 19:\n",
    "     print(\"podria pasar de largo\")\n",
    "else:\n",
    "        print(\"no hay peligro falsa alarma\")"
   ]
  },
  {
   "cell_type": "markdown",
   "metadata": {},
   "source": [
    "# Ejercicio: Uso de operadores `and` y `or` "
   ]
  },
  {
   "cell_type": "code",
   "execution_count": 83,
   "metadata": {},
   "outputs": [
    {
     "name": "stdout",
     "output_type": "stream",
     "text": [
      "!peligro! fenomeno catastrofico\n"
     ]
    }
   ],
   "source": [
    "asteroide_velocidad =189\n",
    "asteroide_tamaño =423\n",
    "if asteroide_velocidad >= 20 or asteroide_velocidad > 25:\n",
    "    print(\"!peligro! fenomeno catastrofico\")"
   ]
  },
  {
   "cell_type": "code",
   "execution_count": 90,
   "metadata": {},
   "outputs": [
    {
     "name": "stdout",
     "output_type": "stream",
     "text": [
      "Look up! ¡Hay una luz mágica en el cielo!\n"
     ]
    }
   ],
   "source": [
    "asteroide_velocidad = 25\n",
    "asteroide_tamaño = 54\n",
    "if asteroide_velocidad > 25 and asteroide_tamaño > 25:\n",
    "    print('¡Alerta, Un asteroide muy peligroso viene hacia la Tierra!')\n",
    "elif asteroide_velocidad >= 20:\n",
    "    print('Look up! ¡Hay una luz mágica en el cielo!')\n",
    "elif asteroide_tamaño < 25:\n",
    "    print('Nada que ver aquí :')\n",
    "else:\n",
    "    print('Nada que ver aquí :')"
   ]
  }
 ],
 "metadata": {
  "interpreter": {
   "hash": "a20343297b01b189079a2d603afcf16d31629df78ae7e4b4b70831b43db2ed43"
  },
  "kernelspec": {
   "display_name": "Python 3.9.10 64-bit (windows store)",
   "language": "python",
   "name": "python3"
  },
  "language_info": {
   "codemirror_mode": {
    "name": "ipython",
    "version": 3
   },
   "file_extension": ".py",
   "mimetype": "text/x-python",
   "name": "python",
   "nbconvert_exporter": "python",
   "pygments_lexer": "ipython3",
   "version": "3.9.10"
  },
  "orig_nbformat": 4
 },
 "nbformat": 4,
 "nbformat_minor": 2
}
